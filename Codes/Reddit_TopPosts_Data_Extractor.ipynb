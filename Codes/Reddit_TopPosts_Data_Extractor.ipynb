{
  "cells": [
    {
      "cell_type": "code",
      "execution_count": null,
      "id": "7c4ac790-f352-43f7-b677-8b13ba7e5c54",
      "metadata": {
        "scrolled": true,
        "id": "7c4ac790-f352-43f7-b677-8b13ba7e5c54"
      },
      "outputs": [],
      "source": [
        "#pip install praw"
      ]
    },
    {
      "cell_type": "code",
      "execution_count": null,
      "id": "eed74d83-6472-4195-8e48-3e20b0178a77",
      "metadata": {
        "id": "eed74d83-6472-4195-8e48-3e20b0178a77"
      },
      "outputs": [],
      "source": [
        "# Import the required libraries\n",
        "import praw\n",
        "import pandas as pd\n"
      ]
    },
    {
      "cell_type": "code",
      "execution_count": null,
      "id": "49e1cc75-9fdb-47d6-a312-3a9981ca4d6a",
      "metadata": {
        "id": "49e1cc75-9fdb-47d6-a312-3a9981ca4d6a"
      },
      "outputs": [],
      "source": [
        "def get_top_posts(subreddit_list,time_filter,limit):\n",
        "\n",
        "  # Fetches top posts from specified subreddits based on the given time filter.\n",
        "\n",
        "   # Parameters:\n",
        "   # - subreddit_list (str): A string containing subreddit names separated by '+', e.g., \"ai+machinelearning+datascience\".\n",
        "   # - time_filter (str): A string representing the time filter for posts (e.g., \"all\", \"day\", \"week\", \"month\").\n",
        "   # - limit (int): The maximum number of posts to retrieve.\n",
        "\n",
        "   # Returns:\n",
        "   # - pd.DataFrame: A DataFrame containing information about the top posts, including post_id, creation time, link flair,\n",
        "   #                post content, post name, title, score, number of comments, upvote ratio, and URL.\n",
        "\n",
        "\n",
        "\n",
        "    reddit = praw.Reddit(\n",
        "    client_id=\"your_id\",\n",
        "    client_secret=\"your_secret_id\",\n",
        "    redirect_uri = \"htttp://localhost:8888\",\n",
        "    user_agent=\"reddit_profile_name\")\n",
        "\n",
        "    posts = reddit.subreddit(subreddit_list).top(time_filter=time_filter,limit = limit)\n",
        "\n",
        "    posts_df = []\n",
        "    for post in posts:\n",
        "        posts_df.append(\n",
        "        {'post_id':post.id,\n",
        "         'created_utc':post.created_utc,\n",
        "         'link_flair_text':post.link_flair_text,\n",
        "         'selftext':post.selftext,\n",
        "         'name':post.name,\n",
        "         'title':post.title,\n",
        "         'score':post.score,\n",
        "         'comments':post.num_comments,\n",
        "         'upvote_ratio':post.upvote_ratio,\n",
        "         'url':post.url\n",
        "        })\n",
        "\n",
        "    return pd.DataFrame(posts_df)\n",
        "\n"
      ]
    },
    {
      "cell_type": "code",
      "execution_count": null,
      "id": "5a8dedd4-afd9-4269-9f63-00761b29923e",
      "metadata": {
        "id": "5a8dedd4-afd9-4269-9f63-00761b29923e"
      },
      "outputs": [],
      "source": [
        "# Example usage:\n",
        "posts = get_top_posts(\"ai+machinelearning+datascience\",\"all\",3000)"
      ]
    },
    {
      "cell_type": "code",
      "execution_count": null,
      "id": "0efcf57b-6892-46f7-96af-db9a71c2c62d",
      "metadata": {
        "id": "0efcf57b-6892-46f7-96af-db9a71c2c62d"
      },
      "outputs": [],
      "source": [
        "posts"
      ]
    },
    {
      "cell_type": "code",
      "execution_count": null,
      "id": "1413e691-30f0-4ab5-a57b-6dc47ae19297",
      "metadata": {
        "id": "1413e691-30f0-4ab5-a57b-6dc47ae19297"
      },
      "outputs": [],
      "source": [
        "# Save as csv file for further analysis\n",
        "posts.to_csv(\"DS_ML_AI_posts.csv\",header=True,index=False)"
      ]
    },
    {
      "cell_type": "code",
      "execution_count": null,
      "id": "994b9396-583a-493a-a9ea-81f36df429bd",
      "metadata": {
        "id": "994b9396-583a-493a-a9ea-81f36df429bd"
      },
      "outputs": [],
      "source": [
        " # Extract comments for each post in the provided DataFrame.\n",
        "\n",
        "    # Parameters:\n",
        "    # - reddit_instance (praw.Reddit): An instance of the Praw Reddit API wrapper.\n",
        "    # - posts_df 'post_id' column.\n",
        "\n",
        "    # Returns:\n",
        "    # A DataFrame containing extracted comments with columns 'post_id' and 'comment'.\n",
        "\n",
        "    comment_list = []\n",
        "\n",
        "    for post_id in list(posts_df['post_id'].values):\n",
        "        submission = reddit_instance.submission(post_id)\n",
        "\n",
        "        # Replace MoreComments objects until there are none left\n",
        "        submission.comments.replace_more(limit=None)\n",
        "        # Iterate over all comments\n",
        "        for comment in submission.comments.list():\n",
        "            comment_list.append({'post_id': post_id, 'comment': comment.body})\n",
        "\n",
        "    return pd.DataFrame(comment_list)\n",
        "\n"
      ]
    },
    {
      "cell_type": "code",
      "execution_count": null,
      "id": "7f471c1f-a814-4e0f-9d13-33231bd61e2a",
      "metadata": {
        "id": "7f471c1f-a814-4e0f-9d13-33231bd61e2a"
      },
      "outputs": [],
      "source": [
        "comments_df"
      ]
    },
    {
      "cell_type": "code",
      "execution_count": null,
      "id": "ad68be0c-6e87-4cdb-8f1e-c47d9e3ca01e",
      "metadata": {
        "id": "ad68be0c-6e87-4cdb-8f1e-c47d9e3ca01e"
      },
      "outputs": [],
      "source": [
        "# Save as csv file for further analysis\n",
        "comments_df.to_csv(\"DS_ML_AI_comments.csv\",header=True,index=False)"
      ]
    },
    {
      "cell_type": "code",
      "execution_count": null,
      "id": "1dc2c56e-be19-40b0-a7b6-dab376053868",
      "metadata": {
        "id": "1dc2c56e-be19-40b0-a7b6-dab376053868"
      },
      "outputs": [],
      "source": [
        "#END"
      ]
    }
  ],
  "metadata": {
    "kernelspec": {
      "display_name": "Python 3 (ipykernel)",
      "language": "python",
      "name": "python3"
    },
    "language_info": {
      "codemirror_mode": {
        "name": "ipython",
        "version": 3
      },
      "file_extension": ".py",
      "mimetype": "text/x-python",
      "name": "python",
      "nbconvert_exporter": "python",
      "pygments_lexer": "ipython3",
      "version": "3.12.1"
    },
    "colab": {
      "provenance": []
    }
  },
  "nbformat": 4,
  "nbformat_minor": 5
}